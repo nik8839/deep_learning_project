{
  "cells": [
    {
      "cell_type": "markdown",
      "metadata": {
        "id": "view-in-github",
        "colab_type": "text"
      },
      "source": [
        "<a href=\"https://colab.research.google.com/github/nik8839/deep_learning_project/blob/trial_1/Image_classification_simple_neural_network_validation_set_part_2_increasing_more_epochs_part_3_increased_filters_removed_dropout.ipynb\" target=\"_parent\"><img src=\"https://colab.research.google.com/assets/colab-badge.svg\" alt=\"Open In Colab\"/></a>"
      ]
    },
    {
      "cell_type": "code",
      "execution_count": 1,
      "metadata": {
        "id": "0cf1BCOADJG9",
        "colab": {
          "base_uri": "https://localhost:8080/"
        },
        "outputId": "9877b349-75ec-43f5-ace5-964a72c51413"
      },
      "outputs": [
        {
          "output_type": "stream",
          "name": "stdout",
          "text": [
            "Mounted at /content/drive\n"
          ]
        }
      ],
      "source": [
        "from google.colab import drive\n",
        "drive.mount('/content/drive')"
      ]
    },
    {
      "cell_type": "markdown",
      "source": [
        "importing libraries"
      ],
      "metadata": {
        "id": "Tg5kTtQAGmy6"
      }
    },
    {
      "cell_type": "code",
      "execution_count": 2,
      "metadata": {
        "id": "doM1yY7pRWE_"
      },
      "outputs": [],
      "source": [
        "import matplotlib.pyplot as plt\n",
        "%matplotlib inline\n",
        "import numpy as np"
      ]
    },
    {
      "cell_type": "markdown",
      "source": [
        "Reading all images from google drive"
      ],
      "metadata": {
        "id": "gTvnAdBKm4GA"
      }
    },
    {
      "cell_type": "code",
      "execution_count": 1,
      "metadata": {
        "colab": {
          "base_uri": "https://localhost:8080/"
        },
        "id": "64coYEUDQbg7",
        "outputId": "a8192539-967d-4130-bb9f-7cc039098f3f"
      },
      "outputs": [
        {
          "output_type": "stream",
          "name": "stdout",
          "text": [
            "Reading images from lightning\n",
            "Reading images from rime\n",
            "Reading images from glaze\n",
            "Reading images from rainbow\n",
            "Reading images from hail\n",
            "Reading images from frost\n",
            "Reading images from sandstorm\n",
            "Reading images from rain\n",
            "Reading images from snow\n",
            "Reading images from fogsmog\n",
            "Reading images from dew\n"
          ]
        }
      ],
      "source": [
        "import os\n",
        "from PIL import Image\n",
        "import numpy as np\n",
        "classes = []\n",
        "data = []\n",
        "Y = []\n",
        "image_folder_path = '/content/drive/MyDrive/dataset'  # Change this to the path where your folders are extracted\n",
        "folders = os.listdir(image_folder_path)\n",
        "count = 0\n",
        "for folder in folders:\n",
        "    classes.append(folder)\n",
        "    folder_path = os.path.join(image_folder_path, folder)\n",
        "    if os.path.isdir(folder_path):\n",
        "        print(f\"Reading images from {folder}\")\n",
        "        images = os.listdir(folder_path)\n",
        "        for image_name in images:\n",
        "            Y.append(count)\n",
        "            image_path = os.path.join(folder_path, image_name)\n",
        "            image = Image.open(image_path)\n",
        "            image = image.resize((224, 224), resample=Image.LANCZOS).convert('RGB')\n",
        "            image_array = np.asarray(image)\n",
        "            #image_array=image_array/255.0\n",
        "            data.append(image_array)\n",
        "\n",
        "        count += 1\n",
        "\n",
        "\n",
        "\n"
      ]
    },
    {
      "cell_type": "code",
      "execution_count": 2,
      "metadata": {
        "colab": {
          "base_uri": "https://localhost:8080/"
        },
        "id": "ClpzylGxKX17",
        "outputId": "76167bb8-c7ee-4ed6-ff5b-5571d6478f24"
      },
      "outputs": [
        {
          "output_type": "stream",
          "name": "stdout",
          "text": [
            "Shape of data: (6877, 224, 224, 3)\n",
            "Shape of Y: (6877,)\n"
          ]
        }
      ],
      "source": [
        "# Convert the data list to a 4D numpy array\n",
        "data = np.array(data)\n",
        "# Convert the Y list to a numpy array\n",
        "Y = np.array(Y)\n",
        "# Check the shapes of data and Y\n",
        "print(\"Shape of data:\", data.shape)\n",
        "print(\"Shape of Y:\", Y.shape)"
      ]
    },
    {
      "cell_type": "code",
      "source": [
        "#data=data/255"
      ],
      "metadata": {
        "id": "IDtgSGzvePsc"
      },
      "execution_count": 4,
      "outputs": []
    },
    {
      "cell_type": "code",
      "source": [
        "normalized_data"
      ],
      "metadata": {
        "id": "M2YQjRchNrzV"
      },
      "execution_count": null,
      "outputs": []
    },
    {
      "cell_type": "code",
      "source": [
        "data.shape"
      ],
      "metadata": {
        "id": "85EvLm4ENBlg"
      },
      "execution_count": null,
      "outputs": []
    },
    {
      "cell_type": "markdown",
      "source": [
        "Converted x vector to be the numpy array"
      ],
      "metadata": {
        "id": "5n3h2M6kIIjZ"
      }
    },
    {
      "cell_type": "code",
      "execution_count": 3,
      "metadata": {
        "id": "a4sZOFI5Mn45"
      },
      "outputs": [],
      "source": [
        "from sklearn.model_selection import train_test_split\n",
        "# Split the data into training and testing sets with a specific random seed (random_state)\n",
        "X_train, X_test, y_train, y_test = train_test_split(data, Y, test_size=0.20, random_state=42)\n",
        "X_train, X_val, y_train, y_val = train_test_split(X_train, y_train, test_size=0.20, random_state=42)"
      ]
    },
    {
      "cell_type": "code",
      "execution_count": null,
      "metadata": {
        "id": "zoe6eFW47vBx"
      },
      "outputs": [],
      "source": [
        "y_train"
      ]
    },
    {
      "cell_type": "code",
      "execution_count": 4,
      "metadata": {
        "id": "f65NudFCNleF"
      },
      "outputs": [],
      "source": [
        "import tensorflow as tf\n",
        "from tensorflow.keras import layers,models\n",
        "import keras"
      ]
    },
    {
      "cell_type": "code",
      "execution_count": 16,
      "metadata": {
        "id": "eyWTk1jGOUmE"
      },
      "outputs": [],
      "source": [
        "from tensorflow.keras import regularizers\n",
        "model=keras.Sequential([\n",
        "      layers.Conv2D(filters=20,kernel_size=(3,3),activation='relu',input_shape=(224,224,3)),\n",
        "    layers.MaxPool2D((3,3)),\n",
        "      layers.Conv2D(filters=20,kernel_size=(3,3),activation='relu',input_shape=(224,224,3)),\n",
        "    layers.MaxPool2D((3,3)),\n",
        "      layers.Conv2D(filters=20,kernel_size=(3,3),activation='relu',input_shape=(224,224,3)),\n",
        "    layers.MaxPool2D((3,3)),\n",
        "     # layers.Conv2D(filters=10,kernel_size=(3,3),activation='relu',input_shape=(224,224,3)),\n",
        "    #layers.MaxPool2D((3,3)),\n",
        "      keras.layers.Flatten(),\n",
        "     #keras.layers.Dense(100,activation='relu'),\n",
        "    # keras.layers.Dense(50,activation='relu'),\n",
        "      keras.layers.Dense(100,activation='relu',kernel_regularizer=regularizers.l1(0.01)),\n",
        "     # keras.layers.Dropout(0.5),\n",
        "      keras.layers.Dense(80,activation='relu',kernel_regularizer=regularizers.l1(0.01)),\n",
        "      #keras.layers.Dropout(0.2),\n",
        "      #keras.layers.Dropout(0.5),\n",
        "       keras.layers.Dense(60,activation='relu',kernel_regularizer=regularizers.l1(0.01)),\n",
        "      #keras.layers.Dropout(0.5),\n",
        "       keras.layers.Dense(40,activation='relu',kernel_regularizer=regularizers.l1(0.01)),\n",
        "      #keras.layers.Dropout(0.5),\n",
        "     keras.layers.Dense(20,activation='relu',kernel_regularizer=regularizers.l1(0.01)),\n",
        "      #keras.layers.Dropout(0.5),\n",
        "    keras.layers.Dense(11,activation='softmax'),\n",
        "])\n",
        "model.compile(\n",
        "    optimizer='adam',\n",
        "    loss='sparse_categorical_crossentropy',\n",
        "    metrics=['accuracy']\n",
        ")"
      ]
    },
    {
      "cell_type": "code",
      "execution_count": 17,
      "metadata": {
        "id": "NwZk22zQPs_O"
      },
      "outputs": [],
      "source": [
        "history=model.fit(X_train,y_train,epochs=30,validation_data=(X_val, y_val))"
      ]
    },
    {
      "cell_type": "code",
      "source": [
        "import matplotlib.pyplot as plt\n",
        "\n",
        "#history = model.fit(X_train, y_train, epochs=100)\n",
        "\n",
        "# Plot training loss\n",
        "plt.plot(history.history['loss'])\n",
        "plt.title('Model Training Loss')\n",
        "plt.xlabel('Epoch')\n",
        "plt.ylabel('Loss')\n",
        "plt.show()\n",
        "\n",
        "# Plot training accuracy\n",
        "plt.plot(history.history['accuracy'])\n",
        "plt.title('Model Training Accuracy')\n",
        "plt.xlabel('Epoch')\n",
        "plt.ylabel('Accuracy')\n",
        "plt.show()\n"
      ],
      "metadata": {
        "id": "7DHsP8K7SABb",
        "colab": {
          "base_uri": "https://localhost:8080/",
          "height": 873
        },
        "outputId": "4fb412a8-781a-4933-ffbb-4111e81b3837"
      },
      "execution_count": 25,
      "outputs": [
        {
          "output_type": "display_data",
          "data": {
            "text/plain": [
              "<Figure size 640x480 with 1 Axes>"
            ],
            "image/png": "[encoded data removed]"
          },
          "metadata": {}
        },
        {
          "output_type": "display_data",
          "data": {
            "text/plain": [
              "<Figure size 640x480 with 1 Axes>"
            ],
            "image/png": "[encoded data removed]"
          },
          "metadata": {}
        }
      ]
    },
    {
      "cell_type": "code",
      "execution_count": 18,
      "metadata": {
        "id": "ZME1SGSw8E6C",
        "colab": {
          "base_uri": "https://localhost:8080/"
        },
        "outputId": "71d50f2a-9ea3-4cd6-97a0-9a4db7fb4450"
      },
      "outputs": [
        {
          "output_type": "stream",
          "name": "stdout",
          "text": [
            "43/43 [==============================] - 0s 10ms/step - loss: 1.5021 - accuracy: 0.6606\n"
          ]
        },
        {
          "output_type": "execute_result",
          "data": {
            "text/plain": [
              "[1.5021114349365234, 0.6606104373931885]"
            ]
          },
          "metadata": {},
          "execution_count": 18
        }
      ],
      "source": [
        "model.evaluate(X_test,y_test)"
      ]
    },
    {
      "cell_type": "code",
      "execution_count": 19,
      "metadata": {
        "id": "GkDaNkpX96EW",
        "colab": {
          "base_uri": "https://localhost:8080/"
        },
        "outputId": "418205ac-08aa-40a1-9140-8a680617907c"
      },
      "outputs": [
        {
          "output_type": "stream",
          "name": "stdout",
          "text": [
            "43/43 [==============================] - 0s 7ms/step\n",
            "classification report\n",
            "               precision    recall  f1-score   support\n",
            "\n",
            "           0       0.69      0.91      0.79        87\n",
            "           1       0.80      0.82      0.81       242\n",
            "           2       0.45      0.27      0.34       117\n",
            "           3       0.75      0.21      0.33        43\n",
            "           4       0.51      0.62      0.56       128\n",
            "           5       0.44      0.54      0.49       106\n",
            "           6       0.74      0.81      0.77       125\n",
            "           7       0.67      0.45      0.54       111\n",
            "           8       0.44      0.49      0.46       106\n",
            "           9       0.78      0.78      0.78       177\n",
            "          10       0.80      0.84      0.82       134\n",
            "\n",
            "    accuracy                           0.66      1376\n",
            "   macro avg       0.64      0.61      0.61      1376\n",
            "weighted avg       0.66      0.66      0.65      1376\n",
            "\n"
          ]
        }
      ],
      "source": [
        "from sklearn.metrics import confusion_matrix,classification_report\n",
        "y_pred=model.predict(X_test)\n",
        "y_pred_classes=[np.argmax(element) for element in y_pred]\n",
        "print(\"classification report\\n\",classification_report(y_test,y_pred_classes))"
      ]
    },
    {
      "cell_type": "code",
      "source": [
        "import matplotlib.pyplot as plt\n",
        "import numpy\n",
        "from sklearn import metrics\n",
        "confusion_matrix = metrics.confusion_matrix(y_test, y_pred_classes)\n",
        "\n",
        "cm_display = metrics.ConfusionMatrixDisplay(confusion_matrix = confusion_matrix, display_labels = [ele  for ele in classes])\n",
        "\n",
        "cm_display.plot()\n",
        "plt.rcParams['font.size'] =4\n",
        "plt.show()\n"
      ],
      "metadata": {
        "id": "a0KRkhJOowYl",
        "colab": {
          "base_uri": "https://localhost:8080/",
          "height": 431
        },
        "outputId": "261be6b6-5d05-4e4b-c006-e4a3318dbc91"
      },
      "execution_count": 24,
      "outputs": [
        {
          "output_type": "display_data",
          "data": {
            "text/plain": [
              "<Figure size 640x480 with 2 Axes>"
            ],
            "image/png": "[encoded data removed]"
          },
          "metadata": {}
        }
      ]
    }
  ],
  "metadata": {
    "colab": {
      "provenance": [],
      "gpuType": "T4",
      "authorship_tag": "ABX9TyNai66ws0zLmeNgmCyQUrUw",
      "include_colab_link": true
    },
    "kernelspec": {
      "display_name": "Python 3",
      "name": "python3"
    },
    "language_info": {
      "name": "python"
    },
    "accelerator": "GPU"
  },
  "nbformat": 4,
  "nbformat_minor": 0
}