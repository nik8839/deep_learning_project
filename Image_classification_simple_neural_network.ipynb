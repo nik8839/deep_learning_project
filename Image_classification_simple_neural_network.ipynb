{
  "cells": [
    {
      "cell_type": "markdown",
      "metadata": {
        "id": "view-in-github",
        "colab_type": "text"
      },
      "source": [
        "<a href=\"https://colab.research.google.com/github/nik8839/deep_learning_project/blob/trial_1/Image_classification_simple_neural_network.ipynb\" target=\"_parent\"><img src=\"https://colab.research.google.com/assets/colab-badge.svg\" alt=\"Open In Colab\"/></a>"
      ]
    },
    {
      "cell_type": "code",
      "execution_count": 1,
      "metadata": {
        "colab": {
          "base_uri": "https://localhost:8080/"
        },
        "id": "0cf1BCOADJG9",
        "outputId": "cf0b150f-da8e-46f1-d486-d56353654f5c"
      },
      "outputs": [
        {
          "output_type": "stream",
          "name": "stdout",
          "text": [
            "Mounted at /content/drive\n"
          ]
        }
      ],
      "source": [
        "from google.colab import drive\n",
        "drive.mount('/content/drive')"
      ]
    },
    {
      "cell_type": "markdown",
      "source": [
        "importing libraries"
      ],
      "metadata": {
        "id": "Tg5kTtQAGmy6"
      }
    },
    {
      "cell_type": "code",
      "execution_count": 1,
      "metadata": {
        "id": "doM1yY7pRWE_"
      },
      "outputs": [],
      "source": [
        "import matplotlib.pyplot as plt\n",
        "%matplotlib inline\n",
        "import numpy as np"
      ]
    },
    {
      "cell_type": "markdown",
      "source": [
        "Reading all images from google drive"
      ],
      "metadata": {
        "id": "gTvnAdBKm4GA"
      }
    },
    {
      "cell_type": "code",
      "execution_count": 1,
      "metadata": {
        "colab": {
          "base_uri": "https://localhost:8080/"
        },
        "id": "64coYEUDQbg7",
        "outputId": "f2310d1b-7253-4d3f-ff0c-b29802463162"
      },
      "outputs": [
        {
          "output_type": "stream",
          "name": "stdout",
          "text": [
            "Reading images from lightning\n",
            "Reading images from rime\n",
            "Reading images from glaze\n",
            "Reading images from rainbow\n",
            "Reading images from hail\n",
            "Reading images from frost\n",
            "Reading images from sandstorm\n",
            "Reading images from rain\n",
            "Reading images from snow\n",
            "Reading images from fogsmog\n",
            "Reading images from dew\n"
          ]
        }
      ],
      "source": [
        "import os\n",
        "from PIL import Image\n",
        "import numpy as np\n",
        "\n",
        "classes = []\n",
        "data = []\n",
        "Y = []\n",
        "\n",
        "image_folder_path = '/content/drive/MyDrive/dataset'  # Change this to the path where your folders are extracted\n",
        "folders = os.listdir(image_folder_path)\n",
        "count = 0\n",
        "\n",
        "for folder in folders:\n",
        "    classes.append(folder)\n",
        "    folder_path = os.path.join(image_folder_path, folder)\n",
        "    if os.path.isdir(folder_path):\n",
        "        print(f\"Reading images from {folder}\")\n",
        "        images = os.listdir(folder_path)\n",
        "        for image_name in images:\n",
        "            Y.append(count)\n",
        "            image_path = os.path.join(folder_path, image_name)\n",
        "            image = Image.open(image_path)\n",
        "            image = image.resize((224, 224), resample=Image.LANCZOS).convert('RGB')\n",
        "            image_array = np.asarray(image)\n",
        "            data.append(image_array)\n",
        "\n",
        "        count += 1\n",
        "\n",
        "\n",
        "\n"
      ]
    },
    {
      "cell_type": "code",
      "execution_count": 2,
      "metadata": {
        "colab": {
          "base_uri": "https://localhost:8080/"
        },
        "id": "ClpzylGxKX17",
        "outputId": "f321876e-35eb-4979-80d8-6be75297d656"
      },
      "outputs": [
        {
          "output_type": "stream",
          "name": "stdout",
          "text": [
            "Shape of data: (6877, 224, 224, 3)\n",
            "Shape of Y: (6877,)\n"
          ]
        }
      ],
      "source": [
        "# Convert the data list to a 4D numpy array\n",
        "data = np.array(data)\n",
        "# Convert the Y list to a numpy array\n",
        "Y = np.array(Y)\n",
        "# Check the shapes of data and Y\n",
        "print(\"Shape of data:\", data.shape)\n",
        "print(\"Shape of Y:\", Y.shape)"
      ]
    },
    {
      "cell_type": "code",
      "source": [
        "#data=data/255"
      ],
      "metadata": {
        "id": "M2YQjRchNrzV"
      },
      "execution_count": 3,
      "outputs": []
    },
    {
      "cell_type": "code",
      "source": [
        "#batch.shape"
      ],
      "metadata": {
        "colab": {
          "base_uri": "https://localhost:8080/"
        },
        "id": "ABZRIpoANloE",
        "outputId": "2f12b6ff-9fb8-4476-dd16-5b804b75030f"
      },
      "execution_count": 24,
      "outputs": [
        {
          "output_type": "execute_result",
          "data": {
            "text/plain": [
              "(77, 224, 224, 3)"
            ]
          },
          "metadata": {},
          "execution_count": 24
        }
      ]
    },
    {
      "cell_type": "code",
      "source": [
        "data.shape"
      ],
      "metadata": {
        "colab": {
          "base_uri": "https://localhost:8080/"
        },
        "id": "85EvLm4ENBlg",
        "outputId": "6f2c5601-8123-41f6-974e-f123253f7923"
      },
      "execution_count": 3,
      "outputs": [
        {
          "output_type": "execute_result",
          "data": {
            "text/plain": [
              "(6877, 224, 224, 3)"
            ]
          },
          "metadata": {},
          "execution_count": 3
        }
      ]
    },
    {
      "cell_type": "markdown",
      "source": [
        "Converted x vector to be the numpy array"
      ],
      "metadata": {
        "id": "5n3h2M6kIIjZ"
      }
    },
    {
      "cell_type": "code",
      "execution_count": 5,
      "metadata": {
        "id": "a4sZOFI5Mn45"
      },
      "outputs": [],
      "source": [
        "from sklearn.model_selection import train_test_split\n",
        "# Split the data into training and testing sets with a specific random seed (random_state)\n",
        "X_train, X_test, y_train, y_test = train_test_split(data, Y, test_size=0.2, random_state=42)"
      ]
    },
    {
      "cell_type": "code",
      "execution_count": 5,
      "metadata": {
        "colab": {
          "base_uri": "https://localhost:8080/"
        },
        "id": "zoe6eFW47vBx",
        "outputId": "205a47eb-a823-4d2c-f7c3-4d8bada1eff6"
      },
      "outputs": [
        {
          "output_type": "execute_result",
          "data": {
            "text/plain": [
              "array([2, 2, 1, ..., 6, 0, 8])"
            ]
          },
          "metadata": {},
          "execution_count": 5
        }
      ],
      "source": [
        "y_train"
      ]
    },
    {
      "cell_type": "code",
      "execution_count": 6,
      "metadata": {
        "id": "f65NudFCNleF"
      },
      "outputs": [],
      "source": [
        "import tensorflow as tf\n",
        "from tensorflow.keras import layers,models\n",
        "import keras"
      ]
    },
    {
      "cell_type": "code",
      "execution_count": 10,
      "metadata": {
        "id": "eyWTk1jGOUmE"
      },
      "outputs": [],
      "source": [
        "from tensorflow.keras import regularizers\n",
        "model=keras.Sequential([\n",
        "      layers.Conv2D(filters=10,kernel_size=(3,3),activation='relu',input_shape=(224,224,3)),\n",
        "    layers.MaxPool2D((3,3)),\n",
        "      layers.Conv2D(filters=10,kernel_size=(3,3),activation='relu',input_shape=(224,224,3)),\n",
        "    layers.MaxPool2D((3,3)),\n",
        "      keras.layers.Flatten(),\n",
        "     #keras.layers.Dense(100,activation='relu'),\n",
        "    # keras.layers.Dense(50,activation='relu'),\n",
        "       keras.layers.Dense(100,activation='relu',kernel_regularizer=regularizers.l1(0.01)),\n",
        "     keras.layers.Dense(25,activation='relu',kernel_regularizer=regularizers.l1(0.01)),\n",
        "    keras.layers.Dense(11,activation='softmax'),\n",
        "])\n",
        "model.compile(\n",
        "    optimizer='adam',\n",
        "    loss='sparse_categorical_crossentropy',\n",
        "    metrics=['accuracy']\n",
        ")"
      ]
    },
    {
      "cell_type": "code",
      "execution_count": 11,
      "metadata": {
        "colab": {
          "base_uri": "https://localhost:8080/"
        },
        "id": "NwZk22zQPs_O",
        "outputId": "808794ac-f5a1-44fa-8630-c742837f3a9e"
      },
      "outputs": [
        {
          "output_type": "stream",
          "name": "stdout",
          "text": [
            "Epoch 1/10\n",
            "172/172 [==============================] - 5s 15ms/step - loss: 43.3286 - accuracy: 0.2705\n",
            "Epoch 2/10\n",
            "172/172 [==============================] - 2s 12ms/step - loss: 14.2310 - accuracy: 0.4107\n",
            "Epoch 3/10\n",
            "172/172 [==============================] - 2s 11ms/step - loss: 8.2789 - accuracy: 0.4696\n",
            "Epoch 4/10\n",
            "172/172 [==============================] - 2s 11ms/step - loss: 6.1231 - accuracy: 0.5301\n",
            "Epoch 5/10\n",
            "172/172 [==============================] - 2s 12ms/step - loss: 4.9599 - accuracy: 0.5501\n",
            "Epoch 6/10\n",
            "172/172 [==============================] - 2s 12ms/step - loss: 4.3405 - accuracy: 0.5575\n",
            "Epoch 7/10\n",
            "172/172 [==============================] - 2s 12ms/step - loss: 3.8707 - accuracy: 0.5739\n",
            "Epoch 8/10\n",
            "172/172 [==============================] - 2s 14ms/step - loss: 3.6346 - accuracy: 0.5895\n",
            "Epoch 9/10\n",
            "172/172 [==============================] - 2s 14ms/step - loss: 3.5099 - accuracy: 0.5963\n",
            "Epoch 10/10\n",
            "172/172 [==============================] - 2s 12ms/step - loss: 3.4395 - accuracy: 0.5617\n"
          ]
        }
      ],
      "source": [
        "history=model.fit(X_train,y_train,epochs=10)"
      ]
    },
    {
      "cell_type": "code",
      "source": [
        "import matplotlib.pyplot as plt\n",
        "\n",
        "#history = model.fit(X_train, y_train, epochs=100)\n",
        "\n",
        "# Plot training loss\n",
        "plt.plot(history.history['loss'])\n",
        "plt.title('Model Training Loss')\n",
        "plt.xlabel('Epoch')\n",
        "plt.ylabel('Loss')\n",
        "plt.show()\n",
        "\n",
        "# Plot training accuracy\n",
        "plt.plot(history.history['accuracy'])\n",
        "plt.title('Model Training Accuracy')\n",
        "plt.xlabel('Epoch')\n",
        "plt.ylabel('Accuracy')\n",
        "plt.show()\n"
      ],
      "metadata": {
        "colab": {
          "base_uri": "https://localhost:8080/",
          "height": 927
        },
        "id": "7DHsP8K7SABb",
        "outputId": "c37d8bc4-ce86-4b18-843d-d916f27db961"
      },
      "execution_count": 12,
      "outputs": [
        {
          "output_type": "display_data",
          "data": {
            "text/plain": [
              "<Figure size 640x480 with 1 Axes>"
            ],
            "image/png": "[encoded data removed]"
          },
          "metadata": {}
        },
        {
          "output_type": "display_data",
          "data": {
            "text/plain": [
              "<Figure size 640x480 with 1 Axes>"
            ],
            "image/png": "[encoded data removed]"
          },
          "metadata": {}
        }
      ]
    },
    {
      "cell_type": "code",
      "execution_count": 13,
      "metadata": {
        "colab": {
          "base_uri": "https://localhost:8080/"
        },
        "id": "ZME1SGSw8E6C",
        "outputId": "dc647c97-19d2-4f7e-f309-90ea3b23b78f"
      },
      "outputs": [
        {
          "output_type": "stream",
          "name": "stdout",
          "text": [
            "43/43 [==============================] - 0s 7ms/step - loss: 3.3477 - accuracy: 0.5879\n"
          ]
        },
        {
          "output_type": "execute_result",
          "data": {
            "text/plain": [
              "[3.3476717472076416, 0.5879360437393188]"
            ]
          },
          "metadata": {},
          "execution_count": 13
        }
      ],
      "source": [
        "model.evaluate(X_test,y_test)"
      ]
    },
    {
      "cell_type": "code",
      "execution_count": 14,
      "metadata": {
        "colab": {
          "base_uri": "https://localhost:8080/"
        },
        "id": "GkDaNkpX96EW",
        "outputId": "e2960e23-bc8e-4ff2-f919-c3b315e57f12"
      },
      "outputs": [
        {
          "output_type": "stream",
          "name": "stdout",
          "text": [
            "43/43 [==============================] - 1s 8ms/step\n",
            "classification report\n",
            "               precision    recall  f1-score   support\n",
            "\n",
            "           0       0.59      0.84      0.69        87\n",
            "           1       0.55      0.94      0.69       242\n",
            "           2       0.35      0.14      0.20       117\n",
            "           3       0.80      0.19      0.30        43\n",
            "           4       0.50      0.52      0.51       128\n",
            "           5       0.42      0.24      0.30       106\n",
            "           6       0.78      0.70      0.74       125\n",
            "           7       0.87      0.23      0.37       111\n",
            "           8       0.45      0.25      0.33       106\n",
            "           9       0.69      0.79      0.74       177\n",
            "          10       0.61      0.84      0.71       134\n",
            "\n",
            "    accuracy                           0.59      1376\n",
            "   macro avg       0.60      0.52      0.51      1376\n",
            "weighted avg       0.59      0.59      0.55      1376\n",
            "\n"
          ]
        }
      ],
      "source": [
        "from sklearn.metrics import confusion_matrix,classification_report\n",
        "y_pred=model.predict(X_test)\n",
        "y_pred_classes=[np.argmax(element) for element in y_pred]\n",
        "print(\"classification report\\n\",classification_report(y_test,y_pred_classes))"
      ]
    },
    {
      "cell_type": "code",
      "source": [
        "import matplotlib.pyplot as plt\n",
        "import numpy\n",
        "from sklearn import metrics\n",
        "confusion_matrix = metrics.confusion_matrix(y_test, y_pred_classes)\n",
        "\n",
        "cm_display = metrics.ConfusionMatrixDisplay(confusion_matrix = confusion_matrix, display_labels = [ele  for ele in classes])\n",
        "\n",
        "cm_display.plot()\n",
        "plt.rcParams['font.size'] =2\n",
        "plt.show()\n"
      ],
      "metadata": {
        "colab": {
          "base_uri": "https://localhost:8080/",
          "height": 433
        },
        "id": "a0KRkhJOowYl",
        "outputId": "7edffad5-7eb8-4082-89ba-343c9415d5e7"
      },
      "execution_count": 16,
      "outputs": [
        {
          "output_type": "display_data",
          "data": {
            "text/plain": [
              "<Figure size 640x480 with 2 Axes>"
            ],
            "image/png": "[encoded data removed]"
          },
          "metadata": {}
        }
      ]
    },
    {
      "cell_type": "code",
      "source": [
        "print(\"classification report\\n\",classification_report(y_test,y_classes))"
      ],
      "metadata": {
        "colab": {
          "base_uri": "https://localhost:8080/"
        },
        "id": "TYxLHAiqjqrU",
        "outputId": "eac9f2f8-ca57-4b5d-b434-6b64ca93164f"
      },
      "execution_count": null,
      "outputs": [
        {
          "output_type": "stream",
          "name": "stdout",
          "text": [
            "classification report\n",
            "               precision    recall  f1-score   support\n",
            "\n",
            "           0       0.79      0.92      0.85        87\n",
            "           1       0.77      0.78      0.78       242\n",
            "           2       0.54      0.65      0.59       117\n",
            "           3       0.66      0.53      0.59        43\n",
            "           4       0.54      0.71      0.62       128\n",
            "           5       0.53      0.45      0.49       106\n",
            "           6       0.68      0.92      0.78       125\n",
            "           7       0.64      0.41      0.50       111\n",
            "           8       0.48      0.54      0.51       106\n",
            "           9       0.91      0.64      0.75       177\n",
            "          10       0.88      0.75      0.81       134\n",
            "\n",
            "    accuracy                           0.68      1376\n",
            "   macro avg       0.68      0.66      0.66      1376\n",
            "weighted avg       0.70      0.68      0.68      1376\n",
            "\n"
          ]
        }
      ]
    }
  ],
  "metadata": {
    "colab": {
      "provenance": [],
      "gpuType": "T4",
      "authorship_tag": "ABX9TyPHHmbcJ7PlT32W6PGnfpd2",
      "include_colab_link": true
    },
    "kernelspec": {
      "display_name": "Python 3",
      "name": "python3"
    },
    "language_info": {
      "name": "python"
    },
    "accelerator": "GPU"
  },
  "nbformat": 4,
  "nbformat_minor": 0
}