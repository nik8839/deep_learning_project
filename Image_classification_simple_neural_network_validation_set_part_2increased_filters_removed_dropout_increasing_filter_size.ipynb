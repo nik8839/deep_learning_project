{
  "cells": [
    {
      "cell_type": "markdown",
      "metadata": {
        "id": "view-in-github",
        "colab_type": "text"
      },
      "source": [
        "<a href=\"https://colab.research.google.com/github/nik8839/deep_learning_project/blob/trial_1/Image_classification_simple_neural_network_validation_set_part_2increased_filters_removed_dropout_increasing_filter_size.ipynb\" target=\"_parent\"><img src=\"https://colab.research.google.com/assets/colab-badge.svg\" alt=\"Open In Colab\"/></a>"
      ]
    },
    {
      "cell_type": "code",
      "execution_count": 1,
      "metadata": {
        "id": "0cf1BCOADJG9",
        "colab": {
          "base_uri": "https://localhost:8080/"
        },
        "outputId": "f82e072f-eb7e-47f3-a7b4-5860c2fab191"
      },
      "outputs": [
        {
          "output_type": "stream",
          "name": "stdout",
          "text": [
            "Mounted at /content/drive\n"
          ]
        }
      ],
      "source": [
        "from google.colab import drive\n",
        "drive.mount('/content/drive')"
      ]
    },
    {
      "cell_type": "markdown",
      "source": [
        "importing libraries"
      ],
      "metadata": {
        "id": "Tg5kTtQAGmy6"
      }
    },
    {
      "cell_type": "code",
      "execution_count": 2,
      "metadata": {
        "id": "doM1yY7pRWE_"
      },
      "outputs": [],
      "source": [
        "import matplotlib.pyplot as plt\n",
        "%matplotlib inline\n",
        "import numpy as np"
      ]
    },
    {
      "cell_type": "markdown",
      "source": [
        "Reading all images from google drive"
      ],
      "metadata": {
        "id": "gTvnAdBKm4GA"
      }
    },
    {
      "cell_type": "code",
      "execution_count": 3,
      "metadata": {
        "colab": {
          "base_uri": "https://localhost:8080/"
        },
        "id": "64coYEUDQbg7",
        "outputId": "40a8edcd-132e-489e-f475-c3833baef46c"
      },
      "outputs": [
        {
          "output_type": "stream",
          "name": "stdout",
          "text": [
            "Reading images from lightning\n",
            "Reading images from rime\n",
            "Reading images from glaze\n",
            "Reading images from rainbow\n",
            "Reading images from hail\n",
            "Reading images from frost\n",
            "Reading images from sandstorm\n",
            "Reading images from rain\n",
            "Reading images from snow\n",
            "Reading images from fogsmog\n",
            "Reading images from dew\n"
          ]
        }
      ],
      "source": [
        "import os\n",
        "from PIL import Image\n",
        "import numpy as np\n",
        "classes = []\n",
        "data = []\n",
        "Y = []\n",
        "image_folder_path = '/content/drive/MyDrive/dataset'  # Change this to the path where your folders are extracted\n",
        "folders = os.listdir(image_folder_path)\n",
        "count = 0\n",
        "for folder in folders:\n",
        "    classes.append(folder)\n",
        "    folder_path = os.path.join(image_folder_path, folder)\n",
        "    if os.path.isdir(folder_path):\n",
        "        print(f\"Reading images from {folder}\")\n",
        "        images = os.listdir(folder_path)\n",
        "        for image_name in images:\n",
        "            Y.append(count)\n",
        "            image_path = os.path.join(folder_path, image_name)\n",
        "            image = Image.open(image_path)\n",
        "            image = image.resize((224, 224), resample=Image.LANCZOS).convert('RGB')\n",
        "            image_array = np.asarray(image)\n",
        "            #image_array=image_array/255.0\n",
        "            data.append(image_array)\n",
        "\n",
        "        count += 1\n",
        "\n",
        "\n",
        "\n"
      ]
    },
    {
      "cell_type": "code",
      "execution_count": 4,
      "metadata": {
        "colab": {
          "base_uri": "https://localhost:8080/"
        },
        "id": "ClpzylGxKX17",
        "outputId": "2eb5d806-94c4-4357-fd8d-e4e645603288"
      },
      "outputs": [
        {
          "output_type": "stream",
          "name": "stdout",
          "text": [
            "Shape of data: (6877, 224, 224, 3)\n",
            "Shape of Y: (6877,)\n"
          ]
        }
      ],
      "source": [
        "# Convert the data list to a 4D numpy array\n",
        "data = np.array(data)\n",
        "# Convert the Y list to a numpy array\n",
        "Y = np.array(Y)\n",
        "# Check the shapes of data and Y\n",
        "print(\"Shape of data:\", data.shape)\n",
        "print(\"Shape of Y:\", Y.shape)"
      ]
    },
    {
      "cell_type": "code",
      "source": [
        "#data=data/255"
      ],
      "metadata": {
        "id": "IDtgSGzvePsc"
      },
      "execution_count": null,
      "outputs": []
    },
    {
      "cell_type": "code",
      "source": [
        "normalized_data"
      ],
      "metadata": {
        "id": "M2YQjRchNrzV"
      },
      "execution_count": null,
      "outputs": []
    },
    {
      "cell_type": "code",
      "source": [
        "data.shape"
      ],
      "metadata": {
        "id": "85EvLm4ENBlg"
      },
      "execution_count": null,
      "outputs": []
    },
    {
      "cell_type": "markdown",
      "source": [
        "Converted x vector to be the numpy array"
      ],
      "metadata": {
        "id": "5n3h2M6kIIjZ"
      }
    },
    {
      "cell_type": "code",
      "execution_count": 5,
      "metadata": {
        "id": "a4sZOFI5Mn45"
      },
      "outputs": [],
      "source": [
        "from sklearn.model_selection import train_test_split\n",
        "# Split the data into training and testing sets with a specific random seed (random_state)\n",
        "X_train, X_test, y_train, y_test = train_test_split(data, Y, test_size=0.20, random_state=42)\n",
        "X_train, X_val, y_train, y_val = train_test_split(X_train, y_train, test_size=0.20, random_state=42)"
      ]
    },
    {
      "cell_type": "code",
      "execution_count": null,
      "metadata": {
        "id": "zoe6eFW47vBx"
      },
      "outputs": [],
      "source": [
        "y_train"
      ]
    },
    {
      "cell_type": "code",
      "execution_count": 6,
      "metadata": {
        "id": "f65NudFCNleF"
      },
      "outputs": [],
      "source": [
        "import tensorflow as tf\n",
        "from tensorflow.keras import layers,models\n",
        "import keras"
      ]
    },
    {
      "cell_type": "code",
      "execution_count": 8,
      "metadata": {
        "id": "eyWTk1jGOUmE"
      },
      "outputs": [],
      "source": [
        "from tensorflow.keras import regularizers\n",
        "model=keras.Sequential([\n",
        "      layers.Conv2D(filters=35,kernel_size=(4,4),activation='relu',input_shape=(224,224,3)),\n",
        "    layers.MaxPool2D((3,3)),\n",
        "      layers.Conv2D(filters=35,kernel_size=(4,4),activation='relu',input_shape=(224,224,3)),\n",
        "    layers.MaxPool2D((3,3)),\n",
        "      layers.Conv2D(filters=35,kernel_size=(4,4),activation='relu',input_shape=(224,224,3)),\n",
        "    layers.MaxPool2D((3,3)),\n",
        "      layers.Conv2D(filters=35,kernel_size=(4,4),activation='relu',input_shape=(224,224,3)),\n",
        "    layers.MaxPool2D((3,3)),\n",
        "     # layers.Conv2D(filters=10,kernel_size=(3,3),activation='relu',input_shape=(224,224,3)),\n",
        "    #layers.MaxPool2D((3,3)),\n",
        "      keras.layers.Flatten(),\n",
        "     #keras.layers.Dense(100,activation='relu'),\n",
        "    # keras.layers.Dense(50,activation='relu'),\n",
        "      keras.layers.Dense(200,activation='relu',kernel_regularizer=regularizers.l1(0.01)),\n",
        "     # keras.layers.Dropout(0.5),\n",
        "      keras.layers.Dense(150,activation='relu',kernel_regularizer=regularizers.l1(0.01)),\n",
        "      #keras.layers.Dropout(0.2),\n",
        "      #keras.layers.Dropout(0.5),\n",
        "       keras.layers.Dense(100,activation='relu',kernel_regularizer=regularizers.l1(0.01)),\n",
        "      #keras.layers.Dropout(0.5),\n",
        "       keras.layers.Dense(50,activation='relu',kernel_regularizer=regularizers.l1(0.01)),\n",
        "      #keras.layers.Dropout(0.5),\n",
        "     keras.layers.Dense(25,activation='relu',kernel_regularizer=regularizers.l1(0.01)),\n",
        "      #keras.layers.Dropout(0.5),\n",
        "    keras.layers.Dense(11,activation='softmax'),\n",
        "])\n",
        "model.compile(\n",
        "    optimizer='adam',\n",
        "    loss='sparse_categorical_crossentropy',\n",
        "    metrics=['accuracy']\n",
        ")"
      ]
    },
    {
      "cell_type": "code",
      "execution_count": 9,
      "metadata": {
        "id": "NwZk22zQPs_O",
        "colab": {
          "base_uri": "https://localhost:8080/"
        },
        "outputId": "517a27b1-baa9-44dc-b1dc-a5a066a15e05"
      },
      "outputs": [
        {
          "output_type": "stream",
          "name": "stdout",
          "text": [
            "Epoch 1/100\n",
            "138/138 [==============================] - 18s 42ms/step - loss: 27.5712 - accuracy: 0.3055 - val_loss: 14.7908 - val_accuracy: 0.3951\n",
            "Epoch 2/100\n",
            "138/138 [==============================] - 5s 36ms/step - loss: 10.8511 - accuracy: 0.4193 - val_loss: 8.0616 - val_accuracy: 0.3951\n",
            "Epoch 3/100\n",
            "138/138 [==============================] - 5s 34ms/step - loss: 6.4906 - accuracy: 0.4520 - val_loss: 5.2734 - val_accuracy: 0.4487\n",
            "Epoch 4/100\n",
            "138/138 [==============================] - 4s 33ms/step - loss: 4.4650 - accuracy: 0.4686 - val_loss: 3.6867 - val_accuracy: 0.5104\n",
            "Epoch 5/100\n",
            "138/138 [==============================] - 5s 36ms/step - loss: 3.3325 - accuracy: 0.5023 - val_loss: 2.8998 - val_accuracy: 0.5322\n",
            "Epoch 6/100\n",
            "138/138 [==============================] - 5s 35ms/step - loss: 2.7230 - accuracy: 0.5173 - val_loss: 2.4954 - val_accuracy: 0.5168\n",
            "Epoch 7/100\n",
            "138/138 [==============================] - 5s 35ms/step - loss: 2.3497 - accuracy: 0.5277 - val_loss: 2.1429 - val_accuracy: 0.5486\n",
            "Epoch 8/100\n",
            "138/138 [==============================] - 5s 34ms/step - loss: 2.1283 - accuracy: 0.5409 - val_loss: 2.1182 - val_accuracy: 0.5095\n",
            "Epoch 9/100\n",
            "138/138 [==============================] - 5s 34ms/step - loss: 1.9358 - accuracy: 0.5511 - val_loss: 1.8058 - val_accuracy: 0.5704\n",
            "Epoch 10/100\n",
            "138/138 [==============================] - 5s 35ms/step - loss: 1.8415 - accuracy: 0.5452 - val_loss: 1.8227 - val_accuracy: 0.5450\n",
            "Epoch 11/100\n",
            "138/138 [==============================] - 5s 36ms/step - loss: 1.7284 - accuracy: 0.5595 - val_loss: 1.8030 - val_accuracy: 0.5341\n",
            "Epoch 12/100\n",
            "138/138 [==============================] - 5s 36ms/step - loss: 1.6733 - accuracy: 0.5602 - val_loss: 1.6922 - val_accuracy: 0.5559\n",
            "Epoch 13/100\n",
            "138/138 [==============================] - 5s 35ms/step - loss: 1.6197 - accuracy: 0.5677 - val_loss: 1.6493 - val_accuracy: 0.5468\n",
            "Epoch 14/100\n",
            "138/138 [==============================] - 6s 40ms/step - loss: 1.5611 - accuracy: 0.5852 - val_loss: 1.5387 - val_accuracy: 0.5704\n",
            "Epoch 15/100\n",
            "138/138 [==============================] - 5s 33ms/step - loss: 1.5154 - accuracy: 0.5852 - val_loss: 1.5255 - val_accuracy: 0.5849\n",
            "Epoch 16/100\n",
            "138/138 [==============================] - 5s 36ms/step - loss: 1.4875 - accuracy: 0.5905 - val_loss: 1.4338 - val_accuracy: 0.6040\n",
            "Epoch 17/100\n",
            "138/138 [==============================] - 5s 36ms/step - loss: 1.4496 - accuracy: 0.6068 - val_loss: 1.4772 - val_accuracy: 0.5931\n",
            "Epoch 18/100\n",
            "138/138 [==============================] - 5s 36ms/step - loss: 1.4323 - accuracy: 0.6130 - val_loss: 1.5027 - val_accuracy: 0.5831\n",
            "Epoch 19/100\n",
            "138/138 [==============================] - 5s 33ms/step - loss: 1.3843 - accuracy: 0.6225 - val_loss: 1.4326 - val_accuracy: 0.5958\n",
            "Epoch 20/100\n",
            "138/138 [==============================] - 5s 36ms/step - loss: 1.3419 - accuracy: 0.6314 - val_loss: 1.3551 - val_accuracy: 0.6358\n",
            "Epoch 21/100\n",
            "138/138 [==============================] - 5s 36ms/step - loss: 1.3147 - accuracy: 0.6452 - val_loss: 1.3714 - val_accuracy: 0.6222\n",
            "Epoch 22/100\n",
            "138/138 [==============================] - 5s 34ms/step - loss: 1.3259 - accuracy: 0.6464 - val_loss: 1.3299 - val_accuracy: 0.6376\n",
            "Epoch 23/100\n",
            "138/138 [==============================] - 5s 38ms/step - loss: 1.2530 - accuracy: 0.6686 - val_loss: 1.3454 - val_accuracy: 0.6231\n",
            "Epoch 24/100\n",
            "138/138 [==============================] - 5s 37ms/step - loss: 1.2375 - accuracy: 0.6705 - val_loss: 1.3506 - val_accuracy: 0.6231\n",
            "Epoch 25/100\n",
            "138/138 [==============================] - 5s 34ms/step - loss: 1.1818 - accuracy: 0.6870 - val_loss: 1.2857 - val_accuracy: 0.6540\n",
            "Epoch 26/100\n",
            "138/138 [==============================] - 5s 35ms/step - loss: 1.1611 - accuracy: 0.6939 - val_loss: 1.3225 - val_accuracy: 0.6185\n",
            "Epoch 27/100\n",
            "138/138 [==============================] - 5s 35ms/step - loss: 1.1425 - accuracy: 0.6982 - val_loss: 1.2454 - val_accuracy: 0.6567\n",
            "Epoch 28/100\n",
            "138/138 [==============================] - 5s 34ms/step - loss: 1.0925 - accuracy: 0.7095 - val_loss: 1.3671 - val_accuracy: 0.6394\n",
            "Epoch 29/100\n",
            "138/138 [==============================] - 5s 35ms/step - loss: 1.0715 - accuracy: 0.7225 - val_loss: 1.3688 - val_accuracy: 0.6303\n",
            "Epoch 30/100\n",
            "138/138 [==============================] - 5s 34ms/step - loss: 1.0612 - accuracy: 0.7257 - val_loss: 1.2522 - val_accuracy: 0.6621\n",
            "Epoch 31/100\n",
            "138/138 [==============================] - 5s 36ms/step - loss: 1.0526 - accuracy: 0.7291 - val_loss: 1.2510 - val_accuracy: 0.6576\n",
            "Epoch 32/100\n",
            "138/138 [==============================] - 5s 35ms/step - loss: 0.9905 - accuracy: 0.7530 - val_loss: 1.2335 - val_accuracy: 0.6630\n",
            "Epoch 33/100\n",
            "138/138 [==============================] - 5s 35ms/step - loss: 0.9713 - accuracy: 0.7505 - val_loss: 1.2157 - val_accuracy: 0.6767\n",
            "Epoch 34/100\n",
            "138/138 [==============================] - 5s 36ms/step - loss: 0.9718 - accuracy: 0.7477 - val_loss: 1.2757 - val_accuracy: 0.6658\n",
            "Epoch 35/100\n",
            "138/138 [==============================] - 5s 37ms/step - loss: 0.9493 - accuracy: 0.7625 - val_loss: 1.2829 - val_accuracy: 0.6667\n",
            "Epoch 36/100\n",
            "138/138 [==============================] - 5s 33ms/step - loss: 0.9402 - accuracy: 0.7645 - val_loss: 1.2082 - val_accuracy: 0.6821\n",
            "Epoch 37/100\n",
            "138/138 [==============================] - 5s 38ms/step - loss: 0.9316 - accuracy: 0.7623 - val_loss: 1.3217 - val_accuracy: 0.6385\n",
            "Epoch 38/100\n",
            "138/138 [==============================] - 5s 34ms/step - loss: 0.8647 - accuracy: 0.7823 - val_loss: 1.3699 - val_accuracy: 0.6403\n",
            "Epoch 39/100\n",
            "138/138 [==============================] - 5s 33ms/step - loss: 0.8406 - accuracy: 0.7934 - val_loss: 1.3041 - val_accuracy: 0.6676\n",
            "Epoch 40/100\n",
            "138/138 [==============================] - 5s 37ms/step - loss: 0.8234 - accuracy: 0.8018 - val_loss: 1.3598 - val_accuracy: 0.6294\n",
            "Epoch 41/100\n",
            "138/138 [==============================] - 5s 34ms/step - loss: 0.8396 - accuracy: 0.7891 - val_loss: 1.3229 - val_accuracy: 0.6594\n",
            "Epoch 42/100\n",
            "138/138 [==============================] - 5s 34ms/step - loss: 0.7863 - accuracy: 0.8127 - val_loss: 1.3218 - val_accuracy: 0.6703\n",
            "Epoch 43/100\n",
            "138/138 [==============================] - 5s 38ms/step - loss: 0.7682 - accuracy: 0.8173 - val_loss: 1.3694 - val_accuracy: 0.6594\n",
            "Epoch 44/100\n",
            "138/138 [==============================] - 5s 35ms/step - loss: 0.7349 - accuracy: 0.8298 - val_loss: 1.4363 - val_accuracy: 0.6621\n",
            "Epoch 45/100\n",
            "138/138 [==============================] - 5s 34ms/step - loss: 0.7089 - accuracy: 0.8395 - val_loss: 1.4391 - val_accuracy: 0.6603\n",
            "Epoch 46/100\n",
            "138/138 [==============================] - 5s 36ms/step - loss: 0.7518 - accuracy: 0.8270 - val_loss: 1.5137 - val_accuracy: 0.6031\n",
            "Epoch 47/100\n",
            "138/138 [==============================] - 5s 36ms/step - loss: 0.6946 - accuracy: 0.8414 - val_loss: 1.5032 - val_accuracy: 0.6440\n",
            "Epoch 48/100\n",
            "138/138 [==============================] - 5s 33ms/step - loss: 0.6792 - accuracy: 0.8486 - val_loss: 1.3785 - val_accuracy: 0.6685\n",
            "Epoch 49/100\n",
            "138/138 [==============================] - 5s 37ms/step - loss: 0.6997 - accuracy: 0.8366 - val_loss: 1.5303 - val_accuracy: 0.6667\n",
            "Epoch 50/100\n",
            "138/138 [==============================] - 5s 35ms/step - loss: 0.6464 - accuracy: 0.8605 - val_loss: 1.5705 - val_accuracy: 0.6621\n",
            "Epoch 51/100\n",
            "138/138 [==============================] - 5s 33ms/step - loss: 0.6636 - accuracy: 0.8470 - val_loss: 1.6088 - val_accuracy: 0.6512\n",
            "Epoch 52/100\n",
            "138/138 [==============================] - 5s 36ms/step - loss: 0.6453 - accuracy: 0.8566 - val_loss: 1.5342 - val_accuracy: 0.6603\n",
            "Epoch 53/100\n",
            "138/138 [==============================] - 5s 36ms/step - loss: 0.5883 - accuracy: 0.8814 - val_loss: 1.6641 - val_accuracy: 0.6530\n",
            "Epoch 54/100\n",
            "138/138 [==============================] - 5s 34ms/step - loss: 0.6004 - accuracy: 0.8727 - val_loss: 1.6684 - val_accuracy: 0.6485\n",
            "Epoch 55/100\n",
            "138/138 [==============================] - 5s 38ms/step - loss: 0.6128 - accuracy: 0.8589 - val_loss: 1.5569 - val_accuracy: 0.6794\n",
            "Epoch 56/100\n",
            "138/138 [==============================] - 5s 33ms/step - loss: 0.5718 - accuracy: 0.8834 - val_loss: 1.6178 - val_accuracy: 0.6549\n",
            "Epoch 57/100\n",
            "138/138 [==============================] - 5s 35ms/step - loss: 0.5358 - accuracy: 0.8945 - val_loss: 1.7984 - val_accuracy: 0.6830\n",
            "Epoch 58/100\n",
            "138/138 [==============================] - 5s 35ms/step - loss: 0.5462 - accuracy: 0.8850 - val_loss: 1.9308 - val_accuracy: 0.6503\n",
            "Epoch 59/100\n",
            "138/138 [==============================] - 5s 35ms/step - loss: 0.5296 - accuracy: 0.8977 - val_loss: 1.8593 - val_accuracy: 0.6630\n",
            "Epoch 60/100\n",
            "138/138 [==============================] - 5s 36ms/step - loss: 0.5092 - accuracy: 0.9023 - val_loss: 1.7775 - val_accuracy: 0.6558\n",
            "Epoch 61/100\n",
            "138/138 [==============================] - 5s 35ms/step - loss: 0.5095 - accuracy: 0.9084 - val_loss: 1.9417 - val_accuracy: 0.6485\n",
            "Epoch 62/100\n",
            "138/138 [==============================] - 5s 33ms/step - loss: 0.4708 - accuracy: 0.9150 - val_loss: 2.1207 - val_accuracy: 0.6594\n",
            "Epoch 63/100\n",
            "138/138 [==============================] - 5s 36ms/step - loss: 0.4732 - accuracy: 0.9166 - val_loss: 1.9953 - val_accuracy: 0.6476\n",
            "Epoch 64/100\n",
            "138/138 [==============================] - 5s 34ms/step - loss: 0.5031 - accuracy: 0.9059 - val_loss: 2.0565 - val_accuracy: 0.6467\n",
            "Epoch 65/100\n",
            "138/138 [==============================] - 5s 33ms/step - loss: 0.4926 - accuracy: 0.9111 - val_loss: 2.0724 - val_accuracy: 0.6585\n",
            "Epoch 66/100\n",
            "138/138 [==============================] - 5s 36ms/step - loss: 0.4638 - accuracy: 0.9191 - val_loss: 2.0717 - val_accuracy: 0.6594\n",
            "Epoch 67/100\n",
            "138/138 [==============================] - 5s 36ms/step - loss: 0.4488 - accuracy: 0.9211 - val_loss: 2.1725 - val_accuracy: 0.6467\n",
            "Epoch 68/100\n",
            "138/138 [==============================] - 5s 34ms/step - loss: 0.4850 - accuracy: 0.9061 - val_loss: 2.0284 - val_accuracy: 0.6485\n",
            "Epoch 69/100\n",
            "138/138 [==============================] - 5s 36ms/step - loss: 0.4497 - accuracy: 0.9168 - val_loss: 2.2921 - val_accuracy: 0.6431\n",
            "Epoch 70/100\n",
            "138/138 [==============================] - 5s 36ms/step - loss: 0.4461 - accuracy: 0.9275 - val_loss: 2.0788 - val_accuracy: 0.6458\n",
            "Epoch 71/100\n",
            "138/138 [==============================] - 5s 34ms/step - loss: 0.4326 - accuracy: 0.9298 - val_loss: 2.5449 - val_accuracy: 0.6412\n",
            "Epoch 72/100\n",
            "138/138 [==============================] - 5s 37ms/step - loss: 0.4475 - accuracy: 0.9255 - val_loss: 2.2708 - val_accuracy: 0.6303\n",
            "Epoch 73/100\n",
            "138/138 [==============================] - 5s 34ms/step - loss: 0.3964 - accuracy: 0.9409 - val_loss: 2.2317 - val_accuracy: 0.6685\n",
            "Epoch 74/100\n",
            "138/138 [==============================] - 5s 34ms/step - loss: 0.3887 - accuracy: 0.9395 - val_loss: 2.2620 - val_accuracy: 0.6712\n",
            "Epoch 75/100\n",
            "138/138 [==============================] - 5s 38ms/step - loss: 0.3633 - accuracy: 0.9511 - val_loss: 2.8182 - val_accuracy: 0.6331\n",
            "Epoch 76/100\n",
            "138/138 [==============================] - 5s 34ms/step - loss: 0.4476 - accuracy: 0.9164 - val_loss: 2.3915 - val_accuracy: 0.6603\n",
            "Epoch 77/100\n",
            "138/138 [==============================] - 5s 34ms/step - loss: 0.3949 - accuracy: 0.9405 - val_loss: 2.2749 - val_accuracy: 0.6485\n",
            "Epoch 78/100\n",
            "138/138 [==============================] - 5s 39ms/step - loss: 0.4762 - accuracy: 0.9098 - val_loss: 1.9056 - val_accuracy: 0.6349\n",
            "Epoch 79/100\n",
            "138/138 [==============================] - 5s 34ms/step - loss: 0.4488 - accuracy: 0.9150 - val_loss: 2.2896 - val_accuracy: 0.6585\n",
            "Epoch 80/100\n",
            "138/138 [==============================] - 5s 36ms/step - loss: 0.3441 - accuracy: 0.9543 - val_loss: 2.2441 - val_accuracy: 0.6621\n",
            "Epoch 81/100\n",
            "138/138 [==============================] - 5s 38ms/step - loss: 0.3388 - accuracy: 0.9543 - val_loss: 2.5173 - val_accuracy: 0.6639\n",
            "Epoch 82/100\n",
            "138/138 [==============================] - 5s 34ms/step - loss: 0.3433 - accuracy: 0.9543 - val_loss: 2.7686 - val_accuracy: 0.6421\n",
            "Epoch 83/100\n",
            "138/138 [==============================] - 5s 36ms/step - loss: 0.4213 - accuracy: 0.9264 - val_loss: 2.2800 - val_accuracy: 0.6558\n",
            "Epoch 84/100\n",
            "138/138 [==============================] - 5s 35ms/step - loss: 0.3589 - accuracy: 0.9464 - val_loss: 2.5202 - val_accuracy: 0.6449\n",
            "Epoch 85/100\n",
            "138/138 [==============================] - 5s 36ms/step - loss: 0.3314 - accuracy: 0.9589 - val_loss: 2.9045 - val_accuracy: 0.6594\n",
            "Epoch 86/100\n",
            "138/138 [==============================] - 5s 37ms/step - loss: 0.3593 - accuracy: 0.9457 - val_loss: 2.5779 - val_accuracy: 0.6331\n",
            "Epoch 87/100\n",
            "138/138 [==============================] - 5s 35ms/step - loss: 0.3463 - accuracy: 0.9536 - val_loss: 2.4879 - val_accuracy: 0.6512\n",
            "Epoch 88/100\n",
            "138/138 [==============================] - 5s 36ms/step - loss: 0.3554 - accuracy: 0.9484 - val_loss: 2.4490 - val_accuracy: 0.6394\n",
            "Epoch 89/100\n",
            "138/138 [==============================] - 5s 34ms/step - loss: 0.3772 - accuracy: 0.9464 - val_loss: 2.5778 - val_accuracy: 0.6703\n",
            "Epoch 90/100\n",
            "138/138 [==============================] - 5s 36ms/step - loss: 0.3193 - accuracy: 0.9602 - val_loss: 2.8558 - val_accuracy: 0.6694\n",
            "Epoch 91/100\n",
            "138/138 [==============================] - 5s 33ms/step - loss: 0.3122 - accuracy: 0.9614 - val_loss: 2.8372 - val_accuracy: 0.6712\n",
            "Epoch 92/100\n",
            "138/138 [==============================] - 5s 37ms/step - loss: 0.3673 - accuracy: 0.9430 - val_loss: 2.5257 - val_accuracy: 0.6512\n",
            "Epoch 93/100\n",
            "138/138 [==============================] - 5s 36ms/step - loss: 0.3884 - accuracy: 0.9391 - val_loss: 2.4736 - val_accuracy: 0.6730\n",
            "Epoch 94/100\n",
            "138/138 [==============================] - 5s 35ms/step - loss: 0.3357 - accuracy: 0.9573 - val_loss: 2.5978 - val_accuracy: 0.6494\n",
            "Epoch 95/100\n",
            "138/138 [==============================] - 5s 37ms/step - loss: 0.2923 - accuracy: 0.9711 - val_loss: 2.8580 - val_accuracy: 0.6667\n",
            "Epoch 96/100\n",
            "138/138 [==============================] - 5s 34ms/step - loss: 0.2719 - accuracy: 0.9791 - val_loss: 2.7666 - val_accuracy: 0.6776\n",
            "Epoch 97/100\n",
            "138/138 [==============================] - 5s 33ms/step - loss: 0.2769 - accuracy: 0.9741 - val_loss: 2.7473 - val_accuracy: 0.6667\n",
            "Epoch 98/100\n",
            "138/138 [==============================] - 5s 35ms/step - loss: 0.3345 - accuracy: 0.9550 - val_loss: 3.2285 - val_accuracy: 0.6331\n",
            "Epoch 99/100\n",
            "138/138 [==============================] - 5s 36ms/step - loss: 0.3686 - accuracy: 0.9427 - val_loss: 2.8842 - val_accuracy: 0.6676\n",
            "Epoch 100/100\n",
            "138/138 [==============================] - 5s 33ms/step - loss: 0.4193 - accuracy: 0.9259 - val_loss: 2.4739 - val_accuracy: 0.6630\n"
          ]
        }
      ],
      "source": [
        "history=model.fit(X_train,y_train,epochs=100,validation_data=(X_val, y_val))"
      ]
    },
    {
      "cell_type": "code",
      "source": [
        "import matplotlib.pyplot as plt\n",
        "\n",
        "#history = model.fit(X_train, y_train, epochs=100)\n",
        "\n",
        "# Plot training loss\n",
        "plt.plot(history.history['loss'])\n",
        "plt.title('Model Training Loss')\n",
        "plt.xlabel('Epoch')\n",
        "plt.ylabel('Loss')\n",
        "plt.show()\n",
        "\n",
        "# Plot training accuracy\n",
        "plt.plot(history.history['accuracy'])\n",
        "plt.title('Model Training Accuracy')\n",
        "plt.xlabel('Epoch')\n",
        "plt.ylabel('Accuracy')\n",
        "plt.show()\n"
      ],
      "metadata": {
        "id": "7DHsP8K7SABb",
        "colab": {
          "base_uri": "https://localhost:8080/",
          "height": 927
        },
        "outputId": "b7e9dae0-52a1-4e71-e382-73b42a32bc45"
      },
      "execution_count": 10,
      "outputs": [
        {
          "output_type": "display_data",
          "data": {
            "text/plain": [
              "<Figure size 640x480 with 1 Axes>"
            ],
            "image/png": "[encoded data removed]"
          },
          "metadata": {}
        },
        {
          "output_type": "display_data",
          "data": {
            "text/plain": [
              "<Figure size 640x480 with 1 Axes>"
            ],
            "image/png": "[encoded data removed]"
          },
          "metadata": {}
        }
      ]
    },
    {
      "cell_type": "code",
      "execution_count": 11,
      "metadata": {
        "id": "ZME1SGSw8E6C",
        "colab": {
          "base_uri": "https://localhost:8080/"
        },
        "outputId": "72dad620-f20d-4a73-df25-0416e09b9143"
      },
      "outputs": [
        {
          "output_type": "stream",
          "name": "stdout",
          "text": [
            "43/43 [==============================] - 1s 13ms/step - loss: 2.3083 - accuracy: 0.6933\n"
          ]
        },
        {
          "output_type": "execute_result",
          "data": {
            "text/plain": [
              "[2.3082756996154785, 0.6933139562606812]"
            ]
          },
          "metadata": {},
          "execution_count": 11
        }
      ],
      "source": [
        "model.evaluate(X_test,y_test)"
      ]
    },
    {
      "cell_type": "code",
      "execution_count": 13,
      "metadata": {
        "id": "GkDaNkpX96EW",
        "colab": {
          "base_uri": "https://localhost:8080/"
        },
        "outputId": "4004b82c-0f8e-48fa-eda7-108676128b02"
      },
      "outputs": [
        {
          "output_type": "stream",
          "name": "stdout",
          "text": [
            "43/43 [==============================] - 1s 10ms/step\n",
            "classification report\n",
            "               precision    recall  f1-score   support\n",
            "\n",
            "           0       0.89      0.89      0.89        87\n",
            "           1       0.84      0.71      0.77       242\n",
            "           2       0.43      0.68      0.52       117\n",
            "           3       0.62      0.81      0.71        43\n",
            "           4       0.67      0.63      0.65       128\n",
            "           5       0.55      0.43      0.49       106\n",
            "           6       0.82      0.82      0.82       125\n",
            "           7       0.61      0.64      0.62       111\n",
            "           8       0.47      0.44      0.46       106\n",
            "           9       0.83      0.79      0.81       177\n",
            "          10       0.80      0.77      0.79       134\n",
            "\n",
            "    accuracy                           0.69      1376\n",
            "   macro avg       0.69      0.69      0.68      1376\n",
            "weighted avg       0.71      0.69      0.70      1376\n",
            "\n"
          ]
        }
      ],
      "source": [
        "from sklearn.metrics import confusion_matrix,classification_report\n",
        "y_pred=model.predict(X_test)\n",
        "y_pred_classes=[np.argmax(element) for element in y_pred]\n",
        "print(\"classification report\\n\",classification_report(y_test,y_pred_classes))"
      ]
    },
    {
      "cell_type": "code",
      "source": [
        "import matplotlib.pyplot as plt\n",
        "import numpy\n",
        "from sklearn import metrics\n",
        "confusion_matrix = metrics.confusion_matrix(y_test, y_pred_classes)\n",
        "\n",
        "cm_display = metrics.ConfusionMatrixDisplay(confusion_matrix = confusion_matrix, display_labels = [ele  for ele in classes])\n",
        "\n",
        "cm_display.plot()\n",
        "plt.rcParams['font.size'] =4\n",
        "plt.show()\n"
      ],
      "metadata": {
        "id": "a0KRkhJOowYl",
        "colab": {
          "base_uri": "https://localhost:8080/",
          "height": 439
        },
        "outputId": "e6e5c5bf-7d4c-42c7-8f64-44671358b1f2"
      },
      "execution_count": 16,
      "outputs": [
        {
          "output_type": "display_data",
          "data": {
            "text/plain": [
              "<Figure size 640x480 with 2 Axes>"
            ],
            "image/png": "[encoded data removed]"
          },
          "metadata": {}
        }
      ]
    }
  ],
  "metadata": {
    "colab": {
      "provenance": [],
      "gpuType": "T4",
      "authorship_tag": "ABX9TyPYve4ln/oIO0DPUgeKttqE",
      "include_colab_link": true
    },
    "kernelspec": {
      "display_name": "Python 3",
      "name": "python3"
    },
    "language_info": {
      "name": "python"
    },
    "accelerator": "GPU"
  },
  "nbformat": 4,
  "nbformat_minor": 0
}